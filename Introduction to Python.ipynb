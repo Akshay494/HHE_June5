{
 "cells": [
  {
   "cell_type": "code",
   "execution_count": null,
   "id": "b6c8fcb4",
   "metadata": {},
   "outputs": [],
   "source": [
    "print(\"Hello World\")"
   ]
  },
  {
   "cell_type": "code",
   "execution_count": null,
   "id": "564830cb",
   "metadata": {},
   "outputs": [],
   "source": [
    "Print(\"Hello World\")  ### It should be print not Print because Python is case-sensitive"
   ]
  },
  {
   "cell_type": "code",
   "execution_count": null,
   "id": "7f1c2d85",
   "metadata": {},
   "outputs": [],
   "source": [
    "print(Hello World)"
   ]
  },
  {
   "cell_type": "code",
   "execution_count": null,
   "id": "b1df211f",
   "metadata": {},
   "outputs": [],
   "source": [
    "print('Hello World')"
   ]
  },
  {
   "cell_type": "code",
   "execution_count": null,
   "id": "195a3649",
   "metadata": {},
   "outputs": [],
   "source": [
    "print(10)"
   ]
  },
  {
   "cell_type": "code",
   "execution_count": null,
   "id": "d4c5a382",
   "metadata": {},
   "outputs": [],
   "source": [
    "print(\"Hello')"
   ]
  },
  {
   "cell_type": "code",
   "execution_count": null,
   "id": "8541068a",
   "metadata": {},
   "outputs": [],
   "source": [
    "print('hi')"
   ]
  },
  {
   "cell_type": "markdown",
   "id": "15e2db29",
   "metadata": {},
   "source": [
    "### Data Types"
   ]
  },
  {
   "cell_type": "code",
   "execution_count": null,
   "id": "a1ef44d3",
   "metadata": {},
   "outputs": [],
   "source": [
    "x=10\n",
    "type(x)"
   ]
  },
  {
   "cell_type": "code",
   "execution_count": null,
   "id": "100e7d8d",
   "metadata": {},
   "outputs": [],
   "source": [
    "x=10.5\n",
    "type(x)"
   ]
  },
  {
   "cell_type": "code",
   "execution_count": null,
   "id": "f3bcded6",
   "metadata": {},
   "outputs": [],
   "source": [
    "y=\"ml\"\n",
    "type(y)"
   ]
  },
  {
   "cell_type": "code",
   "execution_count": null,
   "id": "b897c126",
   "metadata": {},
   "outputs": [],
   "source": [
    "x=False\n",
    "type(x)"
   ]
  },
  {
   "cell_type": "code",
   "execution_count": null,
   "id": "192c6f48",
   "metadata": {},
   "outputs": [],
   "source": [
    "z=\"10\"\n",
    "type(z)"
   ]
  },
  {
   "cell_type": "markdown",
   "id": "952861c9",
   "metadata": {},
   "source": [
    "### Data Structures"
   ]
  },
  {
   "cell_type": "code",
   "execution_count": null,
   "id": "0bc7599d",
   "metadata": {},
   "outputs": [],
   "source": [
    "my_list=[\"Data\",\"Noise\",12,15.7,False]\n",
    "my_list"
   ]
  },
  {
   "cell_type": "code",
   "execution_count": null,
   "id": "fb08d014",
   "metadata": {},
   "outputs": [],
   "source": [
    "type(my_list)"
   ]
  },
  {
   "cell_type": "markdown",
   "id": "5939f921",
   "metadata": {},
   "source": [
    "##### List is hetrogenous->It allows multiple data types\n",
    "##### List is enclosed with square brackets "
   ]
  },
  {
   "cell_type": "code",
   "execution_count": null,
   "id": "c7ac724d",
   "metadata": {},
   "outputs": [],
   "source": [
    "my_list[0]"
   ]
  },
  {
   "cell_type": "code",
   "execution_count": null,
   "id": "22a6c35a",
   "metadata": {},
   "outputs": [],
   "source": [
    "my_list[5]"
   ]
  },
  {
   "cell_type": "markdown",
   "id": "9e6565b5",
   "metadata": {},
   "source": [
    "##### In list index starts from zero"
   ]
  },
  {
   "cell_type": "code",
   "execution_count": null,
   "id": "487c12b8",
   "metadata": {},
   "outputs": [],
   "source": [
    "my_list[0]=\"Data Analytics\"\n",
    "my_list"
   ]
  },
  {
   "cell_type": "markdown",
   "id": "10a75566",
   "metadata": {},
   "source": [
    "##### Mutable -> We can make changes"
   ]
  },
  {
   "cell_type": "code",
   "execution_count": null,
   "id": "ddbca4ea",
   "metadata": {},
   "outputs": [],
   "source": [
    "my_tuple=(\"Data\",\"Noise\",12,15.7,False)\n",
    "my_tuple"
   ]
  },
  {
   "cell_type": "code",
   "execution_count": null,
   "id": "f54801a3",
   "metadata": {},
   "outputs": [],
   "source": [
    "type(my_tuple)"
   ]
  },
  {
   "cell_type": "markdown",
   "id": "0bccff20",
   "metadata": {},
   "source": [
    "##### Tuple is hetrogenous->It allows multiple data types\n",
    "##### Tuple is enclosed with paranthesis or without any bracket"
   ]
  },
  {
   "cell_type": "code",
   "execution_count": null,
   "id": "3b9b78ca",
   "metadata": {},
   "outputs": [],
   "source": [
    "my_tuple[0]"
   ]
  },
  {
   "cell_type": "markdown",
   "id": "e745585f",
   "metadata": {},
   "source": [
    "#### In tuple index starts from zero"
   ]
  },
  {
   "cell_type": "code",
   "execution_count": null,
   "id": "34227010",
   "metadata": {},
   "outputs": [],
   "source": [
    "my_tuple[0]=\"Data Analytics\"\n",
    "my_tuple"
   ]
  },
  {
   "cell_type": "markdown",
   "id": "aa80d9d3",
   "metadata": {},
   "source": [
    "##### Tuple is immutable"
   ]
  },
  {
   "cell_type": "code",
   "execution_count": null,
   "id": "9fcf5e7a",
   "metadata": {},
   "outputs": [],
   "source": []
  }
 ],
 "metadata": {
  "kernelspec": {
   "display_name": "Python 3 (ipykernel)",
   "language": "python",
   "name": "python3"
  },
  "language_info": {
   "codemirror_mode": {
    "name": "ipython",
    "version": 3
   },
   "file_extension": ".py",
   "mimetype": "text/x-python",
   "name": "python",
   "nbconvert_exporter": "python",
   "pygments_lexer": "ipython3",
   "version": "3.8.3"
  }
 },
 "nbformat": 4,
 "nbformat_minor": 5
}
